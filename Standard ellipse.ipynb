{
 "cells": [
  {
   "cell_type": "code",
   "execution_count": 1,
   "id": "1e9f9258",
   "metadata": {},
   "outputs": [
    {
     "ename": "ModuleNotFoundError",
     "evalue": "No module named 'sympy'",
     "output_type": "error",
     "traceback": [
      "\u001b[31m---------------------------------------------------------------------------\u001b[39m",
      "\u001b[31mModuleNotFoundError\u001b[39m                       Traceback (most recent call last)",
      "\u001b[36mCell\u001b[39m\u001b[36m \u001b[39m\u001b[32mIn[1]\u001b[39m\u001b[32m, line 1\u001b[39m\n\u001b[32m----> \u001b[39m\u001b[32m1\u001b[39m \u001b[38;5;28;01mimport\u001b[39;00m\u001b[38;5;250m \u001b[39m\u001b[34;01msympy\u001b[39;00m\u001b[38;5;250m \u001b[39m\u001b[38;5;28;01mas\u001b[39;00m\u001b[38;5;250m \u001b[39m\u001b[34;01msp\u001b[39;00m\n\u001b[32m      2\u001b[39m \u001b[38;5;28;01mimport\u001b[39;00m\u001b[38;5;250m \u001b[39m\u001b[34;01mnumpy\u001b[39;00m\u001b[38;5;250m \u001b[39m\u001b[38;5;28;01mas\u001b[39;00m\u001b[38;5;250m \u001b[39m\u001b[34;01mnp\u001b[39;00m\n\u001b[32m      3\u001b[39m \u001b[38;5;28;01mimport\u001b[39;00m\u001b[38;5;250m \u001b[39m\u001b[34;01mmatplotlib\u001b[39;00m\u001b[34;01m.\u001b[39;00m\u001b[34;01mpyplot\u001b[39;00m\u001b[38;5;250m \u001b[39m\u001b[38;5;28;01mas\u001b[39;00m\u001b[38;5;250m \u001b[39m\u001b[34;01mplt\u001b[39;00m\n",
      "\u001b[31mModuleNotFoundError\u001b[39m: No module named 'sympy'"
     ]
    }
   ],
   "source": [
    "import sympy as sp\n",
    "import numpy as np\n",
    "import matplotlib.pyplot as plt\n",
    "\n",
    "# We work with the standard ellipse: x^2/a^2 + y^2/b^2 = 1. \n",
    "# Recall: Latus rectum L = 2b^2/a, minor axis = 2b.\n",
    "# We require: 2b^2/a = b  --> a = 2b.\n",
    "# Also, b^2 = a^2 (1-e^2). With a = 2b, this gives:\n",
    "#   b^2 = (2b)^2 (1-e^2)  -->  b^2 = 4b^2 (1-e^2)\n",
    "# Dividing by b^2:\n",
    "#   1 = 4 (1-e^2)  --> e^2 = 3/4  -->  e = sqrt(3)/2.\n",
    "\n",
    "# Choose b = 1 so that a = 2.\n",
    "b_val = 1\n",
    "a_val = 2\n",
    "e_val = np.sqrt(3)/2\n",
    "\n",
    "# Define the ellipse: x^2/4 + y^2 = 1.\n",
    "x, y = sp.symbols('x y', real=True)\n",
    "ellipse_eq = sp.Eq(x**2/a_val**2 + y**2/b_val**2, 1)\n",
    "\n",
    "# --- Plot the ellipse and label foci, minor axis, and latus rectum.\n",
    "X = np.linspace(-2.5, 2.5, 400)\n",
    "Y = np.linspace(-1.5, 1.5, 300)\n",
    "Xv, Yv = np.meshgrid(X, Y)\n",
    "F = Xv**2/(a_val**2) + Yv**2/(b_val**2) - 1  # zero-contour represents the ellipse\n",
    "\n",
    "plt.figure(figsize=(6,4))\n",
    "CS = plt.contour(Xv, Yv, F, levels=[0], colors=['blue'])\n",
    "plt.clabel(CS, inline=1, fontsize=10)\n",
    "plt.title(\"Example 10: Ellipse x²/4 + y² = 1\")\n",
    "plt.xlabel(\"x\"), plt.ylabel(\"y\")\n",
    "\n",
    "# Mark the foci (located at ±(ae,0)):\n",
    "focus1 = (a_val*e_val, 0)\n",
    "focus2 = (-a_val*e_val, 0)\n",
    "plt.plot(focus1[0], focus1[1], 'ro', label=\"Foci\")\n",
    "plt.plot(focus2[0], focus2[1], 'ro')\n",
    "\n",
    "# Draw the minor axis as a green dashed vertical line.\n",
    "plt.plot([0, 0], [-b_val, b_val], 'g--', label=\"Minor axis\")\n",
    "\n",
    "# Draw the latus rectum through focus1.\n",
    "# Its length L = 2b^2/a = 2*1/2 = 1, so endpoints are (a*e, ±L/2)\n",
    "lr_y = np.array([-0.5, 0.5])\n",
    "lr_x = np.full_like(lr_y, focus1[0])\n",
    "plt.plot(lr_x, lr_y, 'm-', linewidth=2, label=\"Latus rectum\")\n",
    "\n",
    "plt.legend(), plt.grid(True)\n",
    "plt.axis('equal')\n",
    "plt.show()"
   ]
  }
 ],
 "metadata": {
  "kernelspec": {
   "display_name": "LENOVO",
   "language": "python",
   "name": "python3"
  },
  "language_info": {
   "codemirror_mode": {
    "name": "ipython",
    "version": 3
   },
   "file_extension": ".py",
   "mimetype": "text/x-python",
   "name": "python",
   "nbconvert_exporter": "python",
   "pygments_lexer": "ipython3",
   "version": "3.12.9"
  }
 },
 "nbformat": 4,
 "nbformat_minor": 5
}
